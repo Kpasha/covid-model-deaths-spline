{
 "cells": [
  {
   "cell_type": "code",
   "execution_count": null,
   "metadata": {},
   "outputs": [],
   "source": [
    "import pandas as pd\n",
    "import numpy as np\n",
    "\n",
    "import matplotlib.pyplot as plt\n",
    "from matplotlib.backends.backend_pdf import PdfPages\n",
    "import seaborn as sns\n",
    "sns.set_style('whitegrid')\n",
    "\n",
    "import warnings\n",
    "warnings.simplefilter('ignore')\n"
   ]
  },
  {
   "cell_type": "code",
   "execution_count": null,
   "metadata": {},
   "outputs": [],
   "source": [
    "df = pd.read_csv('/ihme/homes/rmbarber/covid-19/elastispliner/2020_06_07.08/model_data.csv')\n",
    "df['date'] = pd.to_datetime(df['date'])\n",
    "df = df.sort_values(['location_id', 'date'])\n",
    "\n",
    "first_date = df['date'] == df.groupby('location_id')['date'].transform(min)\n",
    "df['Daily death rate (HFR)'] = np.diff(df['Predicted death rate (HFR)'], prepend=np.nan)\n",
    "df.loc[first_date, 'Daily death rate (HFR)'] = df['Predicted death rate (HFR)']\n",
    "df['Daily hospitalization rate'] = np.diff(df['Hospitalization rate'], prepend=np.nan)\n",
    "df.loc[first_date, 'Daily hospitalization rate'] = df['Hospitalization rate']\n",
    "\n",
    "df['HFR'] = df['Daily hospitalization rate'] / df['Daily death rate (HFR)']\n",
    "\n",
    "df = df.loc[~df['HFR'].isnull()]"
   ]
  },
  {
   "cell_type": "code",
   "execution_count": null,
   "metadata": {},
   "outputs": [],
   "source": [
    "with PdfPages('/ihme/homes/rmbarber/covid-19/cases_hospitalizations.pdf') as pdf:\n",
    "    for location_id in df['location_id'].unique():\n",
    "        plot_df = df.loc[df['location_id'] == location_id].reset_index(drop=True)\n",
    "\n",
    "        plt.figure(figsize=(11, 8.5))\n",
    "        plt.plot(plot_df['date'], plot_df['HFR'])\n",
    "        plt.yticks(fontsize=10)\n",
    "        plt.xticks(rotation=60, fontsize=10)\n",
    "        plt.title(plot_df['location_name'][0], fontsize=20)\n",
    "        plt.ylabel('HFR', fontsize=14)\n",
    "        plt.xlabel('Date', fontsize=14)\n",
    "        plt.tight_layout()\n",
    "        pdf.savefig()\n"
   ]
  },
  {
   "cell_type": "code",
   "execution_count": null,
   "metadata": {},
   "outputs": [],
   "source": []
  }
 ],
 "metadata": {
  "kernelspec": {
   "display_name": "Python 3",
   "language": "python",
   "name": "python3"
  },
  "language_info": {
   "codemirror_mode": {
    "name": "ipython",
    "version": 3
   },
   "file_extension": ".py",
   "mimetype": "text/x-python",
   "name": "python",
   "nbconvert_exporter": "python",
   "pygments_lexer": "ipython3",
   "version": "3.6.10"
  }
 },
 "nbformat": 4,
 "nbformat_minor": 4
}
