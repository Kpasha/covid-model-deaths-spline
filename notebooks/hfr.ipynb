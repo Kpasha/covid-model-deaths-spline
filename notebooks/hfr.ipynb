{
 "cells": [
  {
   "cell_type": "code",
   "execution_count": null,
   "metadata": {},
   "outputs": [],
   "source": [
    "import pandas as pd\n",
    "import numpy as np\n",
    "\n",
    "import matplotlib.pyplot as plt\n",
    "from matplotlib.backends.backend_pdf import PdfPages\n",
    "import seaborn as sns\n",
    "sns.set_style('whitegrid')\n",
    "\n",
    "import warnings\n",
    "warnings.simplefilter('ignore')\n"
   ]
  },
  {
   "cell_type": "code",
   "execution_count": null,
   "metadata": {},
   "outputs": [],
   "source": [
    "df = pd.read_csv('/ihme/homes/rmbarber/covid-19/elastispliner/2020_06_07.08/model_data.csv')\n",
    "df['date'] = pd.to_datetime(df['date'])\n",
    "df = df.sort_values(['location_id', 'date']).reset_index(drop=True)\n",
    "df = df.loc[~df['Hospitalization rate'].isnull()]\n",
    "\n",
    "first_date = df['date'] == df.groupby('location_id')['date'].transform(min)\n",
    "\n",
    "df['est_daily_death_rate'] = np.diff(df['Predicted death rate (HFR)'], prepend=np.nan)\n",
    "df.loc[first_date, 'est_daily_death_rate'] = df['Predicted death rate (HFR)']\n",
    "df['est_cumul_deaths'] = df['Predicted death rate (HFR)'] * df['population']\n",
    "df['est_daily_deaths'] = df['est_daily_death_rate'] * df['population']\n",
    "\n",
    "df['daily_hospitalization_rate'] = np.diff(df['Hospitalization rate'], prepend=np.nan)\n",
    "df.loc[first_date, 'daily_hospitalization_rate'] = df['Hospitalization rate']\n",
    "df['cumul_hospitalizations'] = df['Hospitalization rate'] * df['population']\n",
    "df['daily_hospitalizations'] = df['daily_hospitalization_rate'] * df['population']\n",
    "\n",
    "df['cumul_hfr'] = df['cumul_hospitalizations'] / df['est_cumul_deaths']\n",
    "df['daily_hfr'] = df['daily_hospitalizations'] / df['est_daily_deaths']\n",
    "\n",
    "df = df[['location_id', 'location_name', 'date', \n",
    "         'est_cumul_deaths', 'est_daily_deaths', \n",
    "         'cumul_hospitalizations', 'daily_hospitalizations',\n",
    "         'daily_hfr', 'cumul_hfr']]\n"
   ]
  },
  {
   "cell_type": "code",
   "execution_count": null,
   "metadata": {},
   "outputs": [],
   "source": [
    "with PdfPages('/ihme/homes/rmbarber/covid-19/hfr_2020_06_07.pdf') as pdf:\n",
    "    for location_id in df['location_id'].unique():\n",
    "        plot_df = df.loc[df['location_id'] == location_id].reset_index(drop=True)\n",
    "\n",
    "        fig, ax = plt.subplots(1, 2, figsize=(16.5, 8.5))\n",
    "        ax[0].scatter(plot_df['date'], plot_df['daily_hfr'], s=100)\n",
    "        ax[0].plot(plot_df['date'], plot_df['daily_hfr'])\n",
    "        ax[0].set_title('Daily', fontsize=14)\n",
    "        ax[0].set_ylabel('HFR', fontsize=14)\n",
    "        ax[0].set_xlabel('Date', fontsize=14)\n",
    "        \n",
    "        ax[1].scatter(plot_df['date'], plot_df['cumul_hfr'], s=100)\n",
    "        ax[1].plot(plot_df['date'], plot_df['cumul_hfr'])\n",
    "        ax[1].set_title('Cumulative', fontsize=14)\n",
    "        ax[1].set_xlabel('Date', fontsize=14)\n",
    "\n",
    "        # ax[0].set_yticks(fontsize=10)\n",
    "        # ax[0].set_xticks(rotation=60, fontsize=10)\n",
    "        # ax[1].set_yticks(fontsize=10)\n",
    "        # ax[1].set_xticks(rotation=60, fontsize=10)\n",
    "        \n",
    "        fig.suptitle(plot_df['location_name'][0], y=1.0025, fontsize=20)\n",
    "        fig.tight_layout()\n",
    "        pdf.savefig()\n",
    "        plt.close(fig)\n",
    "\n",
    "df.to_csv(\n",
    "    '/ihme/homes/rmbarber/covid-19/hfr_2020_06_07.csv', index=False\n",
    ")\n"
   ]
  },
  {
   "cell_type": "code",
   "execution_count": null,
   "metadata": {},
   "outputs": [],
   "source": [
    "df"
   ]
  },
  {
   "cell_type": "code",
   "execution_count": null,
   "metadata": {},
   "outputs": [],
   "source": []
  }
 ],
 "metadata": {
  "kernelspec": {
   "display_name": "Python 3",
   "language": "python",
   "name": "python3"
  },
  "language_info": {
   "codemirror_mode": {
    "name": "ipython",
    "version": 3
   },
   "file_extension": ".py",
   "mimetype": "text/x-python",
   "name": "python",
   "nbconvert_exporter": "python",
   "pygments_lexer": "ipython3",
   "version": "3.6.10"
  }
 },
 "nbformat": 4,
 "nbformat_minor": 4
}
