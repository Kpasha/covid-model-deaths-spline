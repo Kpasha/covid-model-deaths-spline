{
 "cells": [
  {
   "cell_type": "code",
   "execution_count": null,
   "metadata": {},
   "outputs": [],
   "source": [
    "import pandas as pd\n",
    "import matplotlib.pyplot as plt\n",
    "\n",
    "POPDENS_PATH = '/ihme/covid-19/deaths/mobility_inputs/2020_04_14/pop_density.csv'\n",
    "COVID_PATH = '/ihme/covid-19/deaths-outputs/best/model_results.csv'\n",
    "COVID_POP_PATH = '/ihme/covid-19/deaths-outputs/best/model_data.csv'\n"
   ]
  },
  {
   "cell_type": "code",
   "execution_count": null,
   "metadata": {},
   "outputs": [],
   "source": [
    "popdens_df = pd.read_csv(POPDENS_PATH)"
   ]
  },
  {
   "cell_type": "code",
   "execution_count": null,
   "metadata": {},
   "outputs": [],
   "source": [
    "pop_df = pd.read_csv(COVID_POP_PATH)\n",
    "pop_df = pop_df[['location_id', 'population']].drop_duplicates()\n",
    "covid_df = pd.read_csv(COVID_PATH)\n",
    "covid_df['date'] = pd.to_datetime(covid_df['date'])\n",
    "covid_df['deaths'] = covid_df[[f'draw_{d}' for d in range(1000)]].mean(axis=1)\n",
    "covid_df = covid_df.drop([f'draw_{d}' for d in range(1000)], axis=1)\n",
    "\n",
    "covid_df = covid_df.sort_values(['location_id', 'date']).reset_index(drop=True)\n",
    "first_date = covid_df['date'] == covid_df.groupby('location_id')['date'].transform(min)\n",
    "covid_df['Daily deaths'] = np.diff(covid_df['deaths'], prepend=np.nan)\n",
    "covid_df.loc[first_date, 'Daily deaths'] = covid_df['deaths']\n",
    "covid_df = covid_df.groupby('location_id', as_index=False)['Daily deaths'].max()\n",
    "covid_df = covid_df.merge(pop_df)\n",
    "covid_df['peak_rate'] = covid_df['Daily deaths'] / covid_df['population']\n"
   ]
  },
  {
   "cell_type": "code",
   "execution_count": null,
   "metadata": {},
   "outputs": [],
   "source": [
    "df = popdens_df[['location_id', 'location_name', 'pop_density', 'pop_proportion']].merge(covid_df)"
   ]
  },
  {
   "cell_type": "code",
   "execution_count": null,
   "metadata": {},
   "outputs": [],
   "source": [
    "pds = df['pop_density'].unique().tolist()\n",
    "fig, ax = plt.subplots(3, 3, figsize=(22, 16))\n",
    "for i, pd in enumerate(pds):\n",
    "    col = int(i/3)\n",
    "    row = i % 3\n",
    "    plot_df = df.loc[df['pop_density'] == pd].reset_index(drop=True)\n",
    "    ax[col, row].scatter(plot_df['pop_proportion'], plot_df['peak_rate'])\n",
    "    ax[col, row].set_title(pd)\n",
    "    "
   ]
  },
  {
   "cell_type": "code",
   "execution_count": null,
   "metadata": {},
   "outputs": [],
   "source": [
    "df.loc[df['location_name'] == 'DC']"
   ]
  },
  {
   "cell_type": "code",
   "execution_count": null,
   "metadata": {},
   "outputs": [],
   "source": []
  }
 ],
 "metadata": {
  "kernelspec": {
   "display_name": "Python 3",
   "language": "python",
   "name": "python3"
  },
  "language_info": {
   "codemirror_mode": {
    "name": "ipython",
    "version": 3
   },
   "file_extension": ".py",
   "mimetype": "text/x-python",
   "name": "python",
   "nbconvert_exporter": "python",
   "pygments_lexer": "ipython3",
   "version": "3.6.10"
  }
 },
 "nbformat": 4,
 "nbformat_minor": 4
}
