{
 "cells": [
  {
   "cell_type": "code",
   "execution_count": null,
   "metadata": {},
   "outputs": [],
   "source": [
    "import sys\n",
    "import dill as pickle\n",
    "import numpy as np\n",
    "import matplotlib.pyplot as plt\n",
    "\n",
    "sys.path.append('../src/covid_model_deaths_spline')\n",
    "from mr_spline import *\n",
    "\n",
    "MODEL_LABEL = '2020_05_26_cfrmod_5k'"
   ]
  },
  {
   "cell_type": "code",
   "execution_count": null,
   "metadata": {},
   "outputs": [],
   "source": [
    "location_id = 541\n",
    "\n",
    "with open(f'/ihme/covid-19/deaths/dev/{MODEL_LABEL}/models/{location_id}.pkl', 'rb') as fread:\n",
    "    mr_model = pickle.load(fread)\n",
    "\n",
    "data_y = mr_model.mr_model.data.obs.values\n",
    "data_x = mr_model.mr_model.data.covs.iloc[:,1].values\n",
    "min_val = data_x.min()\n",
    "max_val = data_x.max()    \n",
    "x_vals = np.linspace(min_val, max_val, 100)"
   ]
  },
  {
   "cell_type": "code",
   "execution_count": null,
   "metadata": {},
   "outputs": [],
   "source": [
    "fig, ax = plt.subplots(1, 2, figsize=(16.5, 8.5))\n",
    "#plt.figure(figsize=(11, 8.5))\n",
    "overall = []\n",
    "for knots, model in zip(mr_model.mr_model.ensemble_knots, mr_model.mr_model.sub_models):\n",
    "    x_mat = model.linear_cov_models[1].spline.design_mat(x_vals)\n",
    "    betas = model.beta_soln.copy()\n",
    "    if np.isnan(betas).any():\n",
    "        raise ValueError('Bad submodel')\n",
    "    betas[1:] += betas[0]\n",
    "    overall += [x_mat.dot(betas)]\n",
    "    ax[0].plot(x_vals, x_mat.dot(betas), alpha=0.5)\n",
    "    ax[1].plot(np.exp(x_vals), np.exp(x_mat.dot(betas)))\n",
    "    \n",
    "overall_fit = (np.array(overall) * np.array([mr_model.mr_model.weights]).T).sum(axis=0)\n",
    "ax[0].scatter(data_x,\n",
    "              data_y,\n",
    "              alpha=0.75, s=100)\n",
    "ax[0].plot(x_vals, overall_fit, color='black', linewidth=2)\n",
    "ax[1].scatter(np.exp(data_x),\n",
    "              np.exp(data_y),\n",
    "              alpha=0.5, s=200)\n",
    "ax[1].plot(np.exp(x_vals), \n",
    "           np.exp(overall_fit), color='black', linewidth=2)\n",
    "plt.show()"
   ]
  },
  {
   "cell_type": "code",
   "execution_count": null,
   "metadata": {},
   "outputs": [],
   "source": [
    "spline_knots = mr_model.mr_model.ensemble_knots[2]\n",
    "print(spline_knots)\n",
    "print(np.quantile(data_x, spline_knots))\n"
   ]
  },
  {
   "cell_type": "code",
   "execution_count": null,
   "metadata": {},
   "outputs": [],
   "source": []
  }
 ],
 "metadata": {
  "kernelspec": {
   "display_name": "Python 3",
   "language": "python",
   "name": "python3"
  },
  "language_info": {
   "codemirror_mode": {
    "name": "ipython",
    "version": 3
   },
   "file_extension": ".py",
   "mimetype": "text/x-python",
   "name": "python",
   "nbconvert_exporter": "python",
   "pygments_lexer": "ipython3",
   "version": "3.6.10"
  }
 },
 "nbformat": 4,
 "nbformat_minor": 4
}
