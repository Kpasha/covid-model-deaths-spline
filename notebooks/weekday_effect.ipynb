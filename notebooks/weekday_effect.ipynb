{
 "cells": [
  {
   "cell_type": "code",
   "execution_count": null,
   "metadata": {},
   "outputs": [],
   "source": [
    "import dill as pickle\n",
    "import pandas as pd\n",
    "import numpy as np\n",
    "import matplotlib.pyplot as plt\n",
    "\n",
    "import warnings\n",
    "warnings.simplefilter('ignore')\n",
    "\n",
    "root_dir = '/ihme/homes/rmbarber/covid-19/elastispliner/holdouts'\n"
   ]
  },
  {
   "cell_type": "code",
   "execution_count": null,
   "metadata": {},
   "outputs": [],
   "source": [
    "hierarchy = pd.read_csv('/ihme/covid-19/model-inputs/best/locations/modeling_hierarchy.csv')\n",
    "is_us = hierarchy['path_to_top_parent'].apply(lambda x: '102' in x.split(','))\n",
    "is_md = hierarchy['most_detailed'] == 1\n",
    "hierarchy = hierarchy.loc[is_us & is_md]\n"
   ]
  },
  {
   "cell_type": "code",
   "execution_count": null,
   "metadata": {},
   "outputs": [],
   "source": [
    "def get_change(root_dir, n_holdout_days, location_id):\n",
    "    with open(f'{root_dir}/2020_06_16.{(n_holdout_days+1):02d}/model_working_dir/model_outputs/{location_id}.pkl', 'rb') as fopen:\n",
    "        data = pickle.load(fopen)\n",
    "    model_data = data['model_data']\n",
    "    date = model_data.loc[~model_data['Death rate'].isnull(), 'Date'].max()\n",
    "    day = date.strftime('%A')\n",
    "    prediction = data['smooth_draws'].sort_values(['location_id', 'date']).set_index(['location_id', 'date'])\n",
    "    prediction = prediction.mean(axis=1)\n",
    "    prediction.name = 'prediction'\n",
    "    prediction = prediction.reset_index()\n",
    "    prediction = prediction.loc[prediction['date'] >= date]\n",
    "    \n",
    "    # change in daily deaths over prediction inverval\n",
    "    prediction = np.diff(np.diff(prediction['prediction'])).sum()\n",
    "    \n",
    "    return pd.DataFrame({'location_id':location_id,\n",
    "                         'date':date,\n",
    "                         'day':day,\n",
    "                         'change':prediction}, index=[0])\n"
   ]
  },
  {
   "cell_type": "code",
   "execution_count": null,
   "metadata": {},
   "outputs": [],
   "source": [
    "dfs = []\n",
    "for location_id in hierarchy['location_id'].to_list():\n",
    "    if not location_id in [544, 550]:\n",
    "        for n_holdout_days in range(13):\n",
    "            df = get_change(root_dir, n_holdout_days, location_id)\n",
    "            dfs.append(df)\n",
    "df = pd.concat(dfs)\n"
   ]
  },
  {
   "cell_type": "code",
   "execution_count": null,
   "metadata": {},
   "outputs": [],
   "source": [
    "# for location_id in hierarchy['location_id'].unique():\n",
    "#     if not location_id in [544, 550]:\n",
    "#         plt.plot(df.loc[df['location_id'] == location_id, 'date'],\n",
    "#                  df.loc[df['location_id'] == location_id, 'change'])\n",
    "#         for sunday in df.loc[(df['location_id'] == location_id) & (df['day'] == 'Sunday'), 'date'].values:\n",
    "#             plt.axvline(sunday, color='red', linestyle='--')\n",
    "#         plt.title(hierarchy.loc[hierarchy['location_id'] == location_id, 'location_name'].item())\n",
    "#         plt.xticks(rotation=60)\n",
    "#         plt.show()\n"
   ]
  },
  {
   "cell_type": "code",
   "execution_count": null,
   "metadata": {},
   "outputs": [],
   "source": []
  }
 ],
 "metadata": {
  "kernelspec": {
   "display_name": "Python 3",
   "language": "python",
   "name": "python3"
  },
  "language_info": {
   "codemirror_mode": {
    "name": "ipython",
    "version": 3
   },
   "file_extension": ".py",
   "mimetype": "text/x-python",
   "name": "python",
   "nbconvert_exporter": "python",
   "pygments_lexer": "ipython3",
   "version": "3.6.10"
  }
 },
 "nbformat": 4,
 "nbformat_minor": 4
}
