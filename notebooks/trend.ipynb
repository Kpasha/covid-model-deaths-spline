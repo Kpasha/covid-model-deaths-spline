{
 "cells": [
  {
   "cell_type": "code",
   "execution_count": null,
   "metadata": {},
   "outputs": [],
   "source": [
    "from functools import reduce\n",
    "import pandas as pd\n",
    "from db_queries import get_location_metadata\n",
    "\n",
    "import warnings\n",
    "warnings.simplefilter('ignore')\n",
    "\n",
    "DATE_RANGES = [(pd.to_datetime('2020-05-18'), pd.to_datetime('2020-05-25')),\n",
    "               (pd.to_datetime('2020-05-25'), pd.to_datetime('2020-06-01'))]\n"
   ]
  },
  {
   "cell_type": "code",
   "execution_count": null,
   "metadata": {},
   "outputs": [],
   "source": [
    "loc_df = get_location_metadata(location_set_id=111, location_set_version_id=698)\n",
    "loc_df = loc_df.loc[loc_df['path_to_top_parent'].str.startswith('102,')]\n",
    "\n",
    "df = pd.read_csv('/ihme/covid-19/deaths/dev/2020_05_25_cfrmod/model_results.csv')\n",
    "df['date'] = pd.to_datetime(df['date'])\n",
    "df['deaths'] = df[[f'draw_{d}' for d in range(1000)]].mean(axis=1)\n",
    "df = df[['location_id', 'date', 'deaths']]\n",
    "\n",
    "start_date = df['date'] == df.groupby('location_id')['date'].transform(min)\n",
    "df = df.sort_values(['location_id', 'date'])\n",
    "df['daily_deaths'] = np.nan\n",
    "df['daily_deaths'][1:] = np.diff(df['deaths'])\n",
    "df.loc[start_date, 'daily_deaths'] = df['deaths']\n",
    "\n",
    "df = loc_df[['location_id', 'location_name', 'parent_id']].merge(df)\n",
    "df.loc[df['parent_id'] == 570, 'location_id'] = 570\n",
    "df.loc[df['parent_id'] == 570, 'location_name'] = 'Washington'\n",
    "df = df.groupby(['location_id', 'location_name', 'date'], as_index=False)['daily_deaths'].sum()\n"
   ]
  },
  {
   "cell_type": "code",
   "execution_count": null,
   "metadata": {},
   "outputs": [],
   "source": [
    "def get_pct_change(df, date_range):\n",
    "    df = df.copy()\n",
    "    df = df.loc[df['date'].isin(date_range)]\n",
    "    start = date_range[0].strftime('%m_%d')\n",
    "    end = date_range[1].strftime('%m_%d')\n",
    "    df.loc[df['date'] == date_range[0], 'range_point'] = start\n",
    "    df.loc[df['date'] == date_range[1], 'range_point'] = end\n",
    "    df = pd.pivot_table(df, index=['location_id', 'location_name'], \n",
    "                        columns='range_point', values='daily_deaths').reset_index()\n",
    "    colname = f'pct_change_{start}_to_{end}'\n",
    "    df[colname] = ((df[end] - df[start]) / df[start]) * 100\n",
    "\n",
    "    return df[['location_id', 'location_name', start, end, colname]]\n"
   ]
  },
  {
   "cell_type": "code",
   "execution_count": null,
   "metadata": {},
   "outputs": [],
   "source": [
    "dfs = [get_pct_change(df, date_range) for date_range in DATE_RANGES]\n",
    "\n",
    "pct_change_df = reduce(lambda x, y: pd.merge(x, y, how='outer'), dfs)\n",
    "pct_change_df.to_csv('/ihme/homes/rmbarber/covid-19/change_0518_0525_0601.csv', index=False)\n"
   ]
  },
  {
   "cell_type": "code",
   "execution_count": null,
   "metadata": {},
   "outputs": [],
   "source": []
  }
 ],
 "metadata": {
  "kernelspec": {
   "display_name": "Python 3",
   "language": "python",
   "name": "python3"
  },
  "language_info": {
   "codemirror_mode": {
    "name": "ipython",
    "version": 3
   },
   "file_extension": ".py",
   "mimetype": "text/x-python",
   "name": "python",
   "nbconvert_exporter": "python",
   "pygments_lexer": "ipython3",
   "version": "3.6.10"
  }
 },
 "nbformat": 4,
 "nbformat_minor": 4
}
