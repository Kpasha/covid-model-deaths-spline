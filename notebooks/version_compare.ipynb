{
 "cells": [
  {
   "cell_type": "code",
   "execution_count": null,
   "metadata": {},
   "outputs": [],
   "source": [
    "import pandas as pd\n",
    "import numpy as np\n",
    "\n",
    "import matplotlib.pyplot as plt\n",
    "import seaborn as sns\n",
    "\n",
    "COMPARE_VERSIONS = [\n",
    "    ('/ihme/covid-19/deaths-outputs/2020_07_02.02/model_results_refit.csv', 'Prod (07/01)'),\n",
    "    ('/ihme/homes/rmbarber/covid-19/elastispliner/2020_07_06.17/model_results_refit.csv', 'New (controlled)')\n",
    "]\n",
    "\n",
    "DATA_FILE = '/ihme/homes/rmbarber/covid-19/elastispliner/2020_07_06.17/model_data.csv'\n"
   ]
  },
  {
   "cell_type": "code",
   "execution_count": null,
   "metadata": {},
   "outputs": [],
   "source": [
    "data_df = pd.read_csv(DATA_FILE)\n",
    "data_df['date'] = pd.to_datetime(data_df['date'])\n"
   ]
  },
  {
   "cell_type": "code",
   "execution_count": null,
   "metadata": {},
   "outputs": [],
   "source": [
    "model_file, model_label = COMPARE_VERSIONS[0]\n",
    "\n",
    "model_df = pd.read_csv(model_file)\n",
    "model_df['date'] = pd.to_datetime(model_df['date'])\n"
   ]
  },
  {
   "cell_type": "code",
   "execution_count": null,
   "metadata": {},
   "outputs": [],
   "source": [
    "location_id = 62\n",
    "p_data_df = data_df.loc[data_df['location_id'] == location_id].reset_index(drop=True)\n",
    "p_model_df = model_df.loc[model_df['location_id'] == location_id].reset_index(drop=True)\n"
   ]
  },
  {
   "cell_type": "code",
   "execution_count": null,
   "metadata": {},
   "outputs": [],
   "source": [
    "plt.figure(figsize=(11, 8.5))\n",
    "sns.set_style('whitegrid')\n",
    "plt.scatter(p_data_df['date'], p_data_df['Death rate'], c='dodgerblue', edgecolors='navy', alpha=0)\n"
   ]
  },
  {
   "cell_type": "code",
   "execution_count": null,
   "metadata": {},
   "outputs": [],
   "source": []
  }
 ],
 "metadata": {
  "kernelspec": {
   "display_name": "Python 3",
   "language": "python",
   "name": "python3"
  },
  "language_info": {
   "codemirror_mode": {
    "name": "ipython",
    "version": 3
   },
   "file_extension": ".py",
   "mimetype": "text/x-python",
   "name": "python",
   "nbconvert_exporter": "python",
   "pygments_lexer": "ipython3",
   "version": "3.6.10"
  }
 },
 "nbformat": 4,
 "nbformat_minor": 4
}
