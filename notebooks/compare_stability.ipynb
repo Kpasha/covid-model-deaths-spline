{
 "cells": [
  {
   "cell_type": "markdown",
   "metadata": {},
   "source": [
    "## Setup"
   ]
  },
  {
   "cell_type": "code",
   "execution_count": null,
   "metadata": {},
   "outputs": [],
   "source": [
    "import pandas as pd\n",
    "import matplotlib.pyplot as plt\n",
    "\n",
    "VERSION_DICTS = [\n",
    "    ('reference', {'current': '2020_06_18.28',\n",
    "                   'sub3': '2020_06_18.32'}),\n",
    "    ('ensemble', {'current': '2020_06_18.29',\n",
    "                  'sub3': '2020_06_18.30'})\n",
    "]\n"
   ]
  },
  {
   "cell_type": "markdown",
   "metadata": {},
   "source": [
    "## Methods"
   ]
  },
  {
   "cell_type": "code",
   "execution_count": null,
   "metadata": {},
   "outputs": [],
   "source": [
    "def summarize_date(model_type, data_type, version, date_df=None, n_days=5):\n",
    "    df = pd.read_csv(f'/ihme/homes/rmbarber/covid-19/elastispliner/{version}/model_results_refit.csv')\n",
    "    df = df.loc[df['location_id'] != 102]\n",
    "\n",
    "    df['date'] = pd.to_datetime(df['date'])\n",
    "    df = df.sort_values(['location_id', 'date'])\n",
    "    first_date = (df['date'] == df.groupby('location_id')['date'].transform(min)).values\n",
    "\n",
    "    draw_cols = [col for col in df.columns if col.startswith('draw_')]\n",
    "    daily = np.diff(df[draw_cols], axis=0, prepend=np.nan)\n",
    "    daily[first_date] = df.loc[first_date, draw_cols].values\n",
    "    df[draw_cols] = daily\n",
    "\n",
    "    if date_df is None:\n",
    "        df['last_date'] = df.groupby('location_id')['date'].transform(max)\n",
    "        keep_idx = df.apply(lambda x: x['date'] > x['last_date'] - pd.Timedelta(days=n_days), axis=1)\n",
    "        df = df.loc[keep_idx]\n",
    "        del df['last_date']\n",
    "        date_df = df[['location_id', 'date']].copy()\n",
    "    else:\n",
    "        df = df.merge(date_df)\n",
    "\n",
    "    df = df.groupby('location_id', as_index=False)[draw_cols].sum()\n",
    "    df[f'{data_type}_deaths'] = df[draw_cols].mean(axis=1)\n",
    "    df[f'{data_type}_deaths_ui_range'] = np.percentile(df[draw_cols], 97.5, axis=1) - np.percentile(df[draw_cols], 2.5, axis=1)\n",
    "    df[f'{data_type}_deaths_ui_relative'] = df[f'{data_type}_deaths_ui_range'] / df[f'{data_type}_deaths']\n",
    "    \n",
    "    df['model_type'] = model_type\n",
    "\n",
    "    df = df[['location_id', 'model_type',\n",
    "             f'{data_type}_deaths', \n",
    "             f'{data_type}_deaths_ui_range', f'{data_type}_deaths_ui_relative']]\n",
    "\n",
    "    return df, date_df\n",
    "\n",
    "\n",
    "def get_data(model_type, version_dict):\n",
    "    sub3_df, date_df = summarize_date(\n",
    "        model_type=model_type,\n",
    "        data_type='sub3',\n",
    "        version=version_dict['sub3'],\n",
    "        date_df=None\n",
    "    )\n",
    "    current_df, _ = summarize_date(\n",
    "        model_type=model_type,\n",
    "        data_type='current',\n",
    "        version=version_dict['current'],\n",
    "        date_df=date_df\n",
    "    )\n",
    "    df = current_df.merge(sub3_df)\n",
    "\n",
    "    return df\n"
   ]
  },
  {
   "cell_type": "markdown",
   "metadata": {},
   "source": [
    "## Produce data"
   ]
  },
  {
   "cell_type": "code",
   "execution_count": null,
   "metadata": {},
   "outputs": [],
   "source": [
    "dfs = []\n",
    "for model_type, version_dict in VERSION_DICTS:\n",
    "    df = get_data(model_type, version_dict)\n",
    "    dfs.append(df)\n",
    "df = pd.concat(dfs)\n"
   ]
  },
  {
   "cell_type": "markdown",
   "metadata": {},
   "source": [
    "## Plot"
   ]
  },
  {
   "cell_type": "code",
   "execution_count": null,
   "metadata": {},
   "outputs": [],
   "source": [
    "measure='deaths'\n",
    "\n",
    "fig, ax = plt.subplots(1, 2, figsize=(16.5, 8.5))\n",
    "\n",
    "for i, mt in enumerate(['reference', 'ensemble']):\n",
    "    data = df.loc[df['model_type'] == mt, [f'sub3_{measure}', f'current_{measure}']].values\n",
    "    data_diff = np.abs(np.diff(data, axis=1))\n",
    "    pct_diff = data_diff / data[:,[0]]\n",
    "\n",
    "    mean_abs_diff = np.round(np.mean(data_diff), 1)\n",
    "    mean_pct_abs_diff = np.round(np.mean(pct_diff) * 100, 1)\n",
    "    \n",
    "    plot_title = f'{mt.title()} -- Mean Abs. Diff.: {mean_abs_diff} // Mean Abs. Pct. Diff.: {mean_pct_abs_diff}%'\n",
    "    \n",
    "    ax[i].scatter(df.loc[df['model_type'] == mt, f'current_{measure}'],\n",
    "                  df.loc[df['model_type'] == mt, f'sub3_{measure}'],\n",
    "                  c='dodgerblue', edgecolors='navy', alpha=0.75, s=100)\n",
    "    ax[i].plot((data.min(), data.max()), \n",
    "               (data.min(), data.max()),\n",
    "               color='firebrick', linewidth=2)\n",
    "    ax[i].set_xlabel('Current model')\n",
    "    ax[i].set_ylabel('Holdout model (3 days)')\n",
    "    ax[i].set_title(plot_title)\n",
    "plt.show()\n"
   ]
  },
  {
   "cell_type": "code",
   "execution_count": null,
   "metadata": {},
   "outputs": [],
   "source": []
  }
 ],
 "metadata": {
  "kernelspec": {
   "display_name": "Python 3",
   "language": "python",
   "name": "python3"
  },
  "language_info": {
   "codemirror_mode": {
    "name": "ipython",
    "version": 3
   },
   "file_extension": ".py",
   "mimetype": "text/x-python",
   "name": "python",
   "nbconvert_exporter": "python",
   "pygments_lexer": "ipython3",
   "version": "3.6.10"
  }
 },
 "nbformat": 4,
 "nbformat_minor": 4
}
